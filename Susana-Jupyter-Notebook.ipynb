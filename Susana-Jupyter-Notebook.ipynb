{
 "cells": [
  {
   "cell_type": "markdown",
   "id": "2e167787",
   "metadata": {},
   "source": [
    "### Data Exploration"
   ]
  },
  {
   "cell_type": "code",
   "execution_count": 64,
   "id": "d56e8967",
   "metadata": {},
   "outputs": [],
   "source": [
    "# Dependencies and Setup\n",
    "import pandas as pd\n",
    "import matplotlib.pyplot as plt"
   ]
  },
  {
   "cell_type": "code",
   "execution_count": 4,
   "id": "b1c0f59d",
   "metadata": {},
   "outputs": [
    {
     "data": {
      "text/html": [
       "<div>\n",
       "<style scoped>\n",
       "    .dataframe tbody tr th:only-of-type {\n",
       "        vertical-align: middle;\n",
       "    }\n",
       "\n",
       "    .dataframe tbody tr th {\n",
       "        vertical-align: top;\n",
       "    }\n",
       "\n",
       "    .dataframe thead th {\n",
       "        text-align: right;\n",
       "    }\n",
       "</style>\n",
       "<table border=\"1\" class=\"dataframe\">\n",
       "  <thead>\n",
       "    <tr style=\"text-align: right;\">\n",
       "      <th></th>\n",
       "      <th>Unnamed: 0</th>\n",
       "      <th>Job_Title</th>\n",
       "      <th>Link</th>\n",
       "      <th>Queried_Salary</th>\n",
       "      <th>Job_Type</th>\n",
       "      <th>Skill</th>\n",
       "      <th>No_of_Skills</th>\n",
       "      <th>Company</th>\n",
       "      <th>No_of_Reviews</th>\n",
       "      <th>No_of_Stars</th>\n",
       "      <th>...</th>\n",
       "      <th>MD</th>\n",
       "      <th>DC</th>\n",
       "      <th>NC</th>\n",
       "      <th>Other_states</th>\n",
       "      <th>Consulting and Business Services</th>\n",
       "      <th>Internet and Software</th>\n",
       "      <th>Banks and Financial Services</th>\n",
       "      <th>Health Care</th>\n",
       "      <th>Insurance</th>\n",
       "      <th>Other_industries</th>\n",
       "    </tr>\n",
       "  </thead>\n",
       "  <tbody>\n",
       "    <tr>\n",
       "      <th>0</th>\n",
       "      <td>0</td>\n",
       "      <td>Data Scientist</td>\n",
       "      <td>https://www.indeed.com/rc/clk?jk=6a105f495c36a...</td>\n",
       "      <td>&lt;80000</td>\n",
       "      <td>data_scientist</td>\n",
       "      <td>['SAP', 'SQL']</td>\n",
       "      <td>2</td>\n",
       "      <td>Express Scripts</td>\n",
       "      <td>3301.0</td>\n",
       "      <td>3.3</td>\n",
       "      <td>...</td>\n",
       "      <td>0</td>\n",
       "      <td>0</td>\n",
       "      <td>0</td>\n",
       "      <td>1</td>\n",
       "      <td>0</td>\n",
       "      <td>0</td>\n",
       "      <td>0</td>\n",
       "      <td>1</td>\n",
       "      <td>0</td>\n",
       "      <td>0</td>\n",
       "    </tr>\n",
       "    <tr>\n",
       "      <th>1</th>\n",
       "      <td>1</td>\n",
       "      <td>Data Scientist</td>\n",
       "      <td>https://www.indeed.com/rc/clk?jk=86afd561ea8c6...</td>\n",
       "      <td>&lt;80000</td>\n",
       "      <td>data_scientist</td>\n",
       "      <td>['Machine Learning', 'R', 'SAS', 'SQL', 'Python']</td>\n",
       "      <td>5</td>\n",
       "      <td>Money Mart Financial Services</td>\n",
       "      <td>NaN</td>\n",
       "      <td>NaN</td>\n",
       "      <td>...</td>\n",
       "      <td>0</td>\n",
       "      <td>0</td>\n",
       "      <td>0</td>\n",
       "      <td>0</td>\n",
       "      <td>0</td>\n",
       "      <td>0</td>\n",
       "      <td>0</td>\n",
       "      <td>0</td>\n",
       "      <td>0</td>\n",
       "      <td>0</td>\n",
       "    </tr>\n",
       "    <tr>\n",
       "      <th>2</th>\n",
       "      <td>2</td>\n",
       "      <td>Data Scientist</td>\n",
       "      <td>https://www.indeed.com/rc/clk?jk=e0aad317e6d45...</td>\n",
       "      <td>&lt;80000</td>\n",
       "      <td>data_scientist</td>\n",
       "      <td>['Data Mining', 'Data Management', 'R', 'SAS',...</td>\n",
       "      <td>9</td>\n",
       "      <td>comScore</td>\n",
       "      <td>62.0</td>\n",
       "      <td>3.5</td>\n",
       "      <td>...</td>\n",
       "      <td>0</td>\n",
       "      <td>0</td>\n",
       "      <td>0</td>\n",
       "      <td>1</td>\n",
       "      <td>0</td>\n",
       "      <td>0</td>\n",
       "      <td>0</td>\n",
       "      <td>0</td>\n",
       "      <td>0</td>\n",
       "      <td>0</td>\n",
       "    </tr>\n",
       "    <tr>\n",
       "      <th>3</th>\n",
       "      <td>3</td>\n",
       "      <td>Graduate Studies Program - Data Scientist</td>\n",
       "      <td>https://www.indeed.com/rc/clk?jk=1cfdd9e391a63...</td>\n",
       "      <td>&lt;80000</td>\n",
       "      <td>data_scientist</td>\n",
       "      <td>['Certified Internal Auditor']</td>\n",
       "      <td>1</td>\n",
       "      <td>Central Intelligence Agency</td>\n",
       "      <td>158.0</td>\n",
       "      <td>4.3</td>\n",
       "      <td>...</td>\n",
       "      <td>0</td>\n",
       "      <td>1</td>\n",
       "      <td>0</td>\n",
       "      <td>0</td>\n",
       "      <td>0</td>\n",
       "      <td>0</td>\n",
       "      <td>0</td>\n",
       "      <td>0</td>\n",
       "      <td>0</td>\n",
       "      <td>1</td>\n",
       "    </tr>\n",
       "    <tr>\n",
       "      <th>4</th>\n",
       "      <td>4</td>\n",
       "      <td>Data Scientist I</td>\n",
       "      <td>https://www.indeed.com/rc/clk?jk=fec647775a21e...</td>\n",
       "      <td>&lt;80000</td>\n",
       "      <td>data_scientist</td>\n",
       "      <td>['Statistical Software', 'Time Management', 'R...</td>\n",
       "      <td>7</td>\n",
       "      <td>Federal Reserve Bank of Dallas</td>\n",
       "      <td>495.0</td>\n",
       "      <td>4.1</td>\n",
       "      <td>...</td>\n",
       "      <td>0</td>\n",
       "      <td>0</td>\n",
       "      <td>0</td>\n",
       "      <td>0</td>\n",
       "      <td>0</td>\n",
       "      <td>0</td>\n",
       "      <td>1</td>\n",
       "      <td>0</td>\n",
       "      <td>0</td>\n",
       "      <td>0</td>\n",
       "    </tr>\n",
       "    <tr>\n",
       "      <th>...</th>\n",
       "      <td>...</td>\n",
       "      <td>...</td>\n",
       "      <td>...</td>\n",
       "      <td>...</td>\n",
       "      <td>...</td>\n",
       "      <td>...</td>\n",
       "      <td>...</td>\n",
       "      <td>...</td>\n",
       "      <td>...</td>\n",
       "      <td>...</td>\n",
       "      <td>...</td>\n",
       "      <td>...</td>\n",
       "      <td>...</td>\n",
       "      <td>...</td>\n",
       "      <td>...</td>\n",
       "      <td>...</td>\n",
       "      <td>...</td>\n",
       "      <td>...</td>\n",
       "      <td>...</td>\n",
       "      <td>...</td>\n",
       "      <td>...</td>\n",
       "    </tr>\n",
       "    <tr>\n",
       "      <th>5710</th>\n",
       "      <td>5710</td>\n",
       "      <td>Senior Data Engineer</td>\n",
       "      <td>https://www.indeed.com/rc/clk?jk=fbe2dd71643b3...</td>\n",
       "      <td>&gt;160000</td>\n",
       "      <td>data_engineer</td>\n",
       "      <td>['Hive', 'Hadoop', 'Oracle', 'SQL', 'HBase', '...</td>\n",
       "      <td>12</td>\n",
       "      <td>Intelliswift Software Inc</td>\n",
       "      <td>NaN</td>\n",
       "      <td>NaN</td>\n",
       "      <td>...</td>\n",
       "      <td>0</td>\n",
       "      <td>0</td>\n",
       "      <td>0</td>\n",
       "      <td>0</td>\n",
       "      <td>0</td>\n",
       "      <td>0</td>\n",
       "      <td>0</td>\n",
       "      <td>0</td>\n",
       "      <td>0</td>\n",
       "      <td>0</td>\n",
       "    </tr>\n",
       "    <tr>\n",
       "      <th>5711</th>\n",
       "      <td>5711</td>\n",
       "      <td>Principal Data Engineer (Java, Spark, Storm, AWS)</td>\n",
       "      <td>https://www.indeed.com/rc/clk?jk=70ee8b9bb5a2b...</td>\n",
       "      <td>&gt;160000</td>\n",
       "      <td>data_engineer</td>\n",
       "      <td>['Network', 'Scala', 'Kafka', 'Java', 'MongoDB...</td>\n",
       "      <td>8</td>\n",
       "      <td>Jobspring Partners</td>\n",
       "      <td>31.0</td>\n",
       "      <td>3.7</td>\n",
       "      <td>...</td>\n",
       "      <td>0</td>\n",
       "      <td>0</td>\n",
       "      <td>0</td>\n",
       "      <td>0</td>\n",
       "      <td>0</td>\n",
       "      <td>0</td>\n",
       "      <td>0</td>\n",
       "      <td>0</td>\n",
       "      <td>0</td>\n",
       "      <td>1</td>\n",
       "    </tr>\n",
       "    <tr>\n",
       "      <th>5712</th>\n",
       "      <td>5712</td>\n",
       "      <td>Executive Director- Architect: Data Engineerin...</td>\n",
       "      <td>https://www.indeed.com/rc/clk?jk=2c2a7f94f6ed1...</td>\n",
       "      <td>&gt;160000</td>\n",
       "      <td>data_engineer</td>\n",
       "      <td>['Spring', 'Data Management', 'Hadoop', 'Kafka...</td>\n",
       "      <td>13</td>\n",
       "      <td>JPMorgan Chase</td>\n",
       "      <td>21159.0</td>\n",
       "      <td>3.9</td>\n",
       "      <td>...</td>\n",
       "      <td>0</td>\n",
       "      <td>0</td>\n",
       "      <td>0</td>\n",
       "      <td>1</td>\n",
       "      <td>0</td>\n",
       "      <td>0</td>\n",
       "      <td>1</td>\n",
       "      <td>0</td>\n",
       "      <td>0</td>\n",
       "      <td>0</td>\n",
       "    </tr>\n",
       "    <tr>\n",
       "      <th>5713</th>\n",
       "      <td>5713</td>\n",
       "      <td>Senior Manager, Data Engineering (hands on)</td>\n",
       "      <td>https://www.indeed.com/rc/clk?jk=1051e100b300b...</td>\n",
       "      <td>&gt;160000</td>\n",
       "      <td>data_engineer</td>\n",
       "      <td>['Spring', 'Ruby', 'Test Automation', 'Scripti...</td>\n",
       "      <td>15</td>\n",
       "      <td>Capital One</td>\n",
       "      <td>6791.0</td>\n",
       "      <td>4.0</td>\n",
       "      <td>...</td>\n",
       "      <td>0</td>\n",
       "      <td>0</td>\n",
       "      <td>0</td>\n",
       "      <td>0</td>\n",
       "      <td>0</td>\n",
       "      <td>0</td>\n",
       "      <td>1</td>\n",
       "      <td>0</td>\n",
       "      <td>0</td>\n",
       "      <td>0</td>\n",
       "    </tr>\n",
       "    <tr>\n",
       "      <th>5714</th>\n",
       "      <td>5714</td>\n",
       "      <td>Principal Visual Analytics / Big Data Engineer...</td>\n",
       "      <td>https://www.indeed.com/rc/clk?jk=605a2c61478f1...</td>\n",
       "      <td>&gt;160000</td>\n",
       "      <td>data_engineer</td>\n",
       "      <td>['JavaScript', 'TS/SCI Clearance', 'XML', 'Had...</td>\n",
       "      <td>11</td>\n",
       "      <td>SAIC</td>\n",
       "      <td>2279.0</td>\n",
       "      <td>4.0</td>\n",
       "      <td>...</td>\n",
       "      <td>1</td>\n",
       "      <td>0</td>\n",
       "      <td>0</td>\n",
       "      <td>0</td>\n",
       "      <td>0</td>\n",
       "      <td>0</td>\n",
       "      <td>0</td>\n",
       "      <td>0</td>\n",
       "      <td>0</td>\n",
       "      <td>1</td>\n",
       "    </tr>\n",
       "  </tbody>\n",
       "</table>\n",
       "<p>5715 rows × 43 columns</p>\n",
       "</div>"
      ],
      "text/plain": [
       "      Unnamed: 0                                          Job_Title  \\\n",
       "0              0                                     Data Scientist   \n",
       "1              1                                     Data Scientist   \n",
       "2              2                                     Data Scientist   \n",
       "3              3          Graduate Studies Program - Data Scientist   \n",
       "4              4                                   Data Scientist I   \n",
       "...          ...                                                ...   \n",
       "5710        5710                               Senior Data Engineer   \n",
       "5711        5711  Principal Data Engineer (Java, Spark, Storm, AWS)   \n",
       "5712        5712  Executive Director- Architect: Data Engineerin...   \n",
       "5713        5713        Senior Manager, Data Engineering (hands on)   \n",
       "5714        5714  Principal Visual Analytics / Big Data Engineer...   \n",
       "\n",
       "                                                   Link Queried_Salary  \\\n",
       "0     https://www.indeed.com/rc/clk?jk=6a105f495c36a...         <80000   \n",
       "1     https://www.indeed.com/rc/clk?jk=86afd561ea8c6...         <80000   \n",
       "2     https://www.indeed.com/rc/clk?jk=e0aad317e6d45...         <80000   \n",
       "3     https://www.indeed.com/rc/clk?jk=1cfdd9e391a63...         <80000   \n",
       "4     https://www.indeed.com/rc/clk?jk=fec647775a21e...         <80000   \n",
       "...                                                 ...            ...   \n",
       "5710  https://www.indeed.com/rc/clk?jk=fbe2dd71643b3...        >160000   \n",
       "5711  https://www.indeed.com/rc/clk?jk=70ee8b9bb5a2b...        >160000   \n",
       "5712  https://www.indeed.com/rc/clk?jk=2c2a7f94f6ed1...        >160000   \n",
       "5713  https://www.indeed.com/rc/clk?jk=1051e100b300b...        >160000   \n",
       "5714  https://www.indeed.com/rc/clk?jk=605a2c61478f1...        >160000   \n",
       "\n",
       "            Job_Type                                              Skill  \\\n",
       "0     data_scientist                                     ['SAP', 'SQL']   \n",
       "1     data_scientist  ['Machine Learning', 'R', 'SAS', 'SQL', 'Python']   \n",
       "2     data_scientist  ['Data Mining', 'Data Management', 'R', 'SAS',...   \n",
       "3     data_scientist                     ['Certified Internal Auditor']   \n",
       "4     data_scientist  ['Statistical Software', 'Time Management', 'R...   \n",
       "...              ...                                                ...   \n",
       "5710   data_engineer  ['Hive', 'Hadoop', 'Oracle', 'SQL', 'HBase', '...   \n",
       "5711   data_engineer  ['Network', 'Scala', 'Kafka', 'Java', 'MongoDB...   \n",
       "5712   data_engineer  ['Spring', 'Data Management', 'Hadoop', 'Kafka...   \n",
       "5713   data_engineer  ['Spring', 'Ruby', 'Test Automation', 'Scripti...   \n",
       "5714   data_engineer  ['JavaScript', 'TS/SCI Clearance', 'XML', 'Had...   \n",
       "\n",
       "      No_of_Skills                         Company  No_of_Reviews  \\\n",
       "0                2                 Express Scripts         3301.0   \n",
       "1                5   Money Mart Financial Services            NaN   \n",
       "2                9                        comScore           62.0   \n",
       "3                1     Central Intelligence Agency          158.0   \n",
       "4                7  Federal Reserve Bank of Dallas          495.0   \n",
       "...            ...                             ...            ...   \n",
       "5710            12       Intelliswift Software Inc            NaN   \n",
       "5711             8              Jobspring Partners           31.0   \n",
       "5712            13                  JPMorgan Chase        21159.0   \n",
       "5713            15                     Capital One         6791.0   \n",
       "5714            11                            SAIC         2279.0   \n",
       "\n",
       "      No_of_Stars  ...  MD DC NC Other_states  \\\n",
       "0             3.3  ...   0  0  0            1   \n",
       "1             NaN  ...   0  0  0            0   \n",
       "2             3.5  ...   0  0  0            1   \n",
       "3             4.3  ...   0  1  0            0   \n",
       "4             4.1  ...   0  0  0            0   \n",
       "...           ...  ...  .. .. ..          ...   \n",
       "5710          NaN  ...   0  0  0            0   \n",
       "5711          3.7  ...   0  0  0            0   \n",
       "5712          3.9  ...   0  0  0            1   \n",
       "5713          4.0  ...   0  0  0            0   \n",
       "5714          4.0  ...   1  0  0            0   \n",
       "\n",
       "     Consulting and Business Services Internet and Software  \\\n",
       "0                                   0                     0   \n",
       "1                                   0                     0   \n",
       "2                                   0                     0   \n",
       "3                                   0                     0   \n",
       "4                                   0                     0   \n",
       "...                               ...                   ...   \n",
       "5710                                0                     0   \n",
       "5711                                0                     0   \n",
       "5712                                0                     0   \n",
       "5713                                0                     0   \n",
       "5714                                0                     0   \n",
       "\n",
       "      Banks and Financial Services  Health Care  Insurance  Other_industries  \n",
       "0                                0            1          0                 0  \n",
       "1                                0            0          0                 0  \n",
       "2                                0            0          0                 0  \n",
       "3                                0            0          0                 1  \n",
       "4                                1            0          0                 0  \n",
       "...                            ...          ...        ...               ...  \n",
       "5710                             0            0          0                 0  \n",
       "5711                             0            0          0                 1  \n",
       "5712                             1            0          0                 0  \n",
       "5713                             1            0          0                 0  \n",
       "5714                             0            0          0                 1  \n",
       "\n",
       "[5715 rows x 43 columns]"
      ]
     },
     "execution_count": 4,
     "metadata": {},
     "output_type": "execute_result"
    }
   ],
   "source": [
    "# Read Indeed Dataset and store into Pandas data frame\n",
    "indeed_df = pd.read_csv(\"./indeed_job_dataset.csv\")\n",
    "indeed_df"
   ]
  },
  {
   "cell_type": "code",
   "execution_count": 7,
   "id": "b40421e0",
   "metadata": {},
   "outputs": [
    {
     "data": {
      "text/plain": [
       "Index(['Unnamed: 0', 'Job_Title', 'Link', 'Queried_Salary', 'Job_Type',\n",
       "       'Skill', 'No_of_Skills', 'Company', 'No_of_Reviews', 'No_of_Stars',\n",
       "       'Date_Since_Posted', 'Description', 'Location', 'Company_Revenue',\n",
       "       'Company_Employees', 'Company_Industry', 'python', 'sql',\n",
       "       'machine learning', 'r', 'hadoop', 'tableau', 'sas', 'spark', 'java',\n",
       "       'Others', 'CA', 'NY', 'VA', 'TX', 'MA', 'IL', 'WA', 'MD', 'DC', 'NC',\n",
       "       'Other_states', 'Consulting and Business Services',\n",
       "       'Internet and Software', 'Banks and Financial Services', 'Health Care',\n",
       "       'Insurance', 'Other_industries'],\n",
       "      dtype='object')"
      ]
     },
     "execution_count": 7,
     "metadata": {},
     "output_type": "execute_result"
    }
   ],
   "source": [
    "indeed_df.columns"
   ]
  },
  {
   "cell_type": "markdown",
   "id": "c1d152e0",
   "metadata": {},
   "source": [
    "#### Removing the following columns\n",
    "* Link column\n",
    "* Date since posted\n",
    "* Description"
   ]
  },
  {
   "cell_type": "code",
   "execution_count": 8,
   "id": "dbe739f9",
   "metadata": {},
   "outputs": [],
   "source": [
    "# Dropping unusable columns\n",
    "indeed_df = indeed_df.drop(columns = [\"Unnamed: 0\", \"Link\", \"Date_Since_Posted\", \"Description\"])"
   ]
  },
  {
   "cell_type": "code",
   "execution_count": 23,
   "id": "73764aee",
   "metadata": {},
   "outputs": [
    {
     "data": {
      "text/html": [
       "<div>\n",
       "<style scoped>\n",
       "    .dataframe tbody tr th:only-of-type {\n",
       "        vertical-align: middle;\n",
       "    }\n",
       "\n",
       "    .dataframe tbody tr th {\n",
       "        vertical-align: top;\n",
       "    }\n",
       "\n",
       "    .dataframe thead th {\n",
       "        text-align: right;\n",
       "    }\n",
       "</style>\n",
       "<table border=\"1\" class=\"dataframe\">\n",
       "  <thead>\n",
       "    <tr style=\"text-align: right;\">\n",
       "      <th></th>\n",
       "      <th>Job_Title</th>\n",
       "      <th>Queried_Salary</th>\n",
       "      <th>Job_Type</th>\n",
       "      <th>Skill</th>\n",
       "      <th>No_of_Skills</th>\n",
       "      <th>Company</th>\n",
       "      <th>No_of_Reviews</th>\n",
       "      <th>No_of_Stars</th>\n",
       "      <th>Location</th>\n",
       "      <th>Company_Revenue</th>\n",
       "      <th>...</th>\n",
       "      <th>MD</th>\n",
       "      <th>DC</th>\n",
       "      <th>NC</th>\n",
       "      <th>Other_states</th>\n",
       "      <th>Consulting and Business Services</th>\n",
       "      <th>Internet and Software</th>\n",
       "      <th>Banks and Financial Services</th>\n",
       "      <th>Health Care</th>\n",
       "      <th>Insurance</th>\n",
       "      <th>Other_industries</th>\n",
       "    </tr>\n",
       "  </thead>\n",
       "  <tbody>\n",
       "    <tr>\n",
       "      <th>0</th>\n",
       "      <td>Data Scientist</td>\n",
       "      <td>&lt;80000</td>\n",
       "      <td>data_scientist</td>\n",
       "      <td>['SAP', 'SQL']</td>\n",
       "      <td>2</td>\n",
       "      <td>Express Scripts</td>\n",
       "      <td>3301.0</td>\n",
       "      <td>3.3</td>\n",
       "      <td>MO</td>\n",
       "      <td>More than $10B (USD)</td>\n",
       "      <td>...</td>\n",
       "      <td>0</td>\n",
       "      <td>0</td>\n",
       "      <td>0</td>\n",
       "      <td>1</td>\n",
       "      <td>0</td>\n",
       "      <td>0</td>\n",
       "      <td>0</td>\n",
       "      <td>1</td>\n",
       "      <td>0</td>\n",
       "      <td>0</td>\n",
       "    </tr>\n",
       "    <tr>\n",
       "      <th>1</th>\n",
       "      <td>Data Scientist</td>\n",
       "      <td>&lt;80000</td>\n",
       "      <td>data_scientist</td>\n",
       "      <td>['Machine Learning', 'R', 'SAS', 'SQL', 'Python']</td>\n",
       "      <td>5</td>\n",
       "      <td>Money Mart Financial Services</td>\n",
       "      <td>NaN</td>\n",
       "      <td>NaN</td>\n",
       "      <td>TX</td>\n",
       "      <td>NaN</td>\n",
       "      <td>...</td>\n",
       "      <td>0</td>\n",
       "      <td>0</td>\n",
       "      <td>0</td>\n",
       "      <td>0</td>\n",
       "      <td>0</td>\n",
       "      <td>0</td>\n",
       "      <td>0</td>\n",
       "      <td>0</td>\n",
       "      <td>0</td>\n",
       "      <td>0</td>\n",
       "    </tr>\n",
       "    <tr>\n",
       "      <th>2</th>\n",
       "      <td>Data Scientist</td>\n",
       "      <td>&lt;80000</td>\n",
       "      <td>data_scientist</td>\n",
       "      <td>['Data Mining', 'Data Management', 'R', 'SAS',...</td>\n",
       "      <td>9</td>\n",
       "      <td>comScore</td>\n",
       "      <td>62.0</td>\n",
       "      <td>3.5</td>\n",
       "      <td>OR</td>\n",
       "      <td>NaN</td>\n",
       "      <td>...</td>\n",
       "      <td>0</td>\n",
       "      <td>0</td>\n",
       "      <td>0</td>\n",
       "      <td>1</td>\n",
       "      <td>0</td>\n",
       "      <td>0</td>\n",
       "      <td>0</td>\n",
       "      <td>0</td>\n",
       "      <td>0</td>\n",
       "      <td>0</td>\n",
       "    </tr>\n",
       "    <tr>\n",
       "      <th>3</th>\n",
       "      <td>Graduate Studies Program - Data Scientist</td>\n",
       "      <td>&lt;80000</td>\n",
       "      <td>data_scientist</td>\n",
       "      <td>['Certified Internal Auditor']</td>\n",
       "      <td>1</td>\n",
       "      <td>Central Intelligence Agency</td>\n",
       "      <td>158.0</td>\n",
       "      <td>4.3</td>\n",
       "      <td>DC</td>\n",
       "      <td>NaN</td>\n",
       "      <td>...</td>\n",
       "      <td>0</td>\n",
       "      <td>1</td>\n",
       "      <td>0</td>\n",
       "      <td>0</td>\n",
       "      <td>0</td>\n",
       "      <td>0</td>\n",
       "      <td>0</td>\n",
       "      <td>0</td>\n",
       "      <td>0</td>\n",
       "      <td>1</td>\n",
       "    </tr>\n",
       "    <tr>\n",
       "      <th>4</th>\n",
       "      <td>Data Scientist I</td>\n",
       "      <td>&lt;80000</td>\n",
       "      <td>data_scientist</td>\n",
       "      <td>['Statistical Software', 'Time Management', 'R...</td>\n",
       "      <td>7</td>\n",
       "      <td>Federal Reserve Bank of Dallas</td>\n",
       "      <td>495.0</td>\n",
       "      <td>4.1</td>\n",
       "      <td>TX</td>\n",
       "      <td>NaN</td>\n",
       "      <td>...</td>\n",
       "      <td>0</td>\n",
       "      <td>0</td>\n",
       "      <td>0</td>\n",
       "      <td>0</td>\n",
       "      <td>0</td>\n",
       "      <td>0</td>\n",
       "      <td>1</td>\n",
       "      <td>0</td>\n",
       "      <td>0</td>\n",
       "      <td>0</td>\n",
       "    </tr>\n",
       "  </tbody>\n",
       "</table>\n",
       "<p>5 rows × 39 columns</p>\n",
       "</div>"
      ],
      "text/plain": [
       "                                   Job_Title Queried_Salary        Job_Type  \\\n",
       "0                             Data Scientist         <80000  data_scientist   \n",
       "1                             Data Scientist         <80000  data_scientist   \n",
       "2                             Data Scientist         <80000  data_scientist   \n",
       "3  Graduate Studies Program - Data Scientist         <80000  data_scientist   \n",
       "4                           Data Scientist I         <80000  data_scientist   \n",
       "\n",
       "                                               Skill  No_of_Skills  \\\n",
       "0                                     ['SAP', 'SQL']             2   \n",
       "1  ['Machine Learning', 'R', 'SAS', 'SQL', 'Python']             5   \n",
       "2  ['Data Mining', 'Data Management', 'R', 'SAS',...             9   \n",
       "3                     ['Certified Internal Auditor']             1   \n",
       "4  ['Statistical Software', 'Time Management', 'R...             7   \n",
       "\n",
       "                          Company  No_of_Reviews  No_of_Stars Location  \\\n",
       "0                 Express Scripts         3301.0          3.3       MO   \n",
       "1   Money Mart Financial Services            NaN          NaN       TX   \n",
       "2                        comScore           62.0          3.5       OR   \n",
       "3     Central Intelligence Agency          158.0          4.3       DC   \n",
       "4  Federal Reserve Bank of Dallas          495.0          4.1       TX   \n",
       "\n",
       "        Company_Revenue  ... MD DC  NC  Other_states  \\\n",
       "0  More than $10B (USD)  ...  0  0   0             1   \n",
       "1                   NaN  ...  0  0   0             0   \n",
       "2                   NaN  ...  0  0   0             1   \n",
       "3                   NaN  ...  0  1   0             0   \n",
       "4                   NaN  ...  0  0   0             0   \n",
       "\n",
       "   Consulting and Business Services  Internet and Software  \\\n",
       "0                                 0                      0   \n",
       "1                                 0                      0   \n",
       "2                                 0                      0   \n",
       "3                                 0                      0   \n",
       "4                                 0                      0   \n",
       "\n",
       "   Banks and Financial Services  Health Care  Insurance  Other_industries  \n",
       "0                             0            1          0                 0  \n",
       "1                             0            0          0                 0  \n",
       "2                             0            0          0                 0  \n",
       "3                             0            0          0                 1  \n",
       "4                             1            0          0                 0  \n",
       "\n",
       "[5 rows x 39 columns]"
      ]
     },
     "execution_count": 23,
     "metadata": {},
     "output_type": "execute_result"
    }
   ],
   "source": [
    "# Checking DataFrame\n",
    "indeed_df.head()"
   ]
  },
  {
   "cell_type": "code",
   "execution_count": 27,
   "id": "87d1e2e4",
   "metadata": {},
   "outputs": [],
   "source": [
    "# Seperating my rows to clean\n",
    "suzy_col = indeed_df.loc[:, ['No_of_Reviews','Company_Industry', 'IL', 'WA', 'MD', 'DC', 'NC',\n",
    "       'Other_states', 'Consulting and Business Services',\n",
    "       'Internet and Software', 'Banks and Financial Services', 'Health Care',\n",
    "       'Insurance', 'Other_industries']]"
   ]
  },
  {
   "cell_type": "code",
   "execution_count": 28,
   "id": "60a6a3ad",
   "metadata": {},
   "outputs": [
    {
     "data": {
      "text/html": [
       "<div>\n",
       "<style scoped>\n",
       "    .dataframe tbody tr th:only-of-type {\n",
       "        vertical-align: middle;\n",
       "    }\n",
       "\n",
       "    .dataframe tbody tr th {\n",
       "        vertical-align: top;\n",
       "    }\n",
       "\n",
       "    .dataframe thead th {\n",
       "        text-align: right;\n",
       "    }\n",
       "</style>\n",
       "<table border=\"1\" class=\"dataframe\">\n",
       "  <thead>\n",
       "    <tr style=\"text-align: right;\">\n",
       "      <th></th>\n",
       "      <th>No_of_Reviews</th>\n",
       "      <th>Company_Industry</th>\n",
       "      <th>IL</th>\n",
       "      <th>WA</th>\n",
       "      <th>MD</th>\n",
       "      <th>DC</th>\n",
       "      <th>NC</th>\n",
       "      <th>Other_states</th>\n",
       "      <th>Consulting and Business Services</th>\n",
       "      <th>Internet and Software</th>\n",
       "      <th>Banks and Financial Services</th>\n",
       "      <th>Health Care</th>\n",
       "      <th>Insurance</th>\n",
       "      <th>Other_industries</th>\n",
       "    </tr>\n",
       "  </thead>\n",
       "  <tbody>\n",
       "    <tr>\n",
       "      <th>0</th>\n",
       "      <td>3301.0</td>\n",
       "      <td>Health Care</td>\n",
       "      <td>0</td>\n",
       "      <td>0</td>\n",
       "      <td>0</td>\n",
       "      <td>0</td>\n",
       "      <td>0</td>\n",
       "      <td>1</td>\n",
       "      <td>0</td>\n",
       "      <td>0</td>\n",
       "      <td>0</td>\n",
       "      <td>1</td>\n",
       "      <td>0</td>\n",
       "      <td>0</td>\n",
       "    </tr>\n",
       "    <tr>\n",
       "      <th>1</th>\n",
       "      <td>NaN</td>\n",
       "      <td>NaN</td>\n",
       "      <td>0</td>\n",
       "      <td>0</td>\n",
       "      <td>0</td>\n",
       "      <td>0</td>\n",
       "      <td>0</td>\n",
       "      <td>0</td>\n",
       "      <td>0</td>\n",
       "      <td>0</td>\n",
       "      <td>0</td>\n",
       "      <td>0</td>\n",
       "      <td>0</td>\n",
       "      <td>0</td>\n",
       "    </tr>\n",
       "    <tr>\n",
       "      <th>2</th>\n",
       "      <td>62.0</td>\n",
       "      <td>NaN</td>\n",
       "      <td>0</td>\n",
       "      <td>0</td>\n",
       "      <td>0</td>\n",
       "      <td>0</td>\n",
       "      <td>0</td>\n",
       "      <td>1</td>\n",
       "      <td>0</td>\n",
       "      <td>0</td>\n",
       "      <td>0</td>\n",
       "      <td>0</td>\n",
       "      <td>0</td>\n",
       "      <td>0</td>\n",
       "    </tr>\n",
       "    <tr>\n",
       "      <th>3</th>\n",
       "      <td>158.0</td>\n",
       "      <td>Government</td>\n",
       "      <td>0</td>\n",
       "      <td>0</td>\n",
       "      <td>0</td>\n",
       "      <td>1</td>\n",
       "      <td>0</td>\n",
       "      <td>0</td>\n",
       "      <td>0</td>\n",
       "      <td>0</td>\n",
       "      <td>0</td>\n",
       "      <td>0</td>\n",
       "      <td>0</td>\n",
       "      <td>1</td>\n",
       "    </tr>\n",
       "    <tr>\n",
       "      <th>4</th>\n",
       "      <td>495.0</td>\n",
       "      <td>Banks and Financial Services</td>\n",
       "      <td>0</td>\n",
       "      <td>0</td>\n",
       "      <td>0</td>\n",
       "      <td>0</td>\n",
       "      <td>0</td>\n",
       "      <td>0</td>\n",
       "      <td>0</td>\n",
       "      <td>0</td>\n",
       "      <td>1</td>\n",
       "      <td>0</td>\n",
       "      <td>0</td>\n",
       "      <td>0</td>\n",
       "    </tr>\n",
       "    <tr>\n",
       "      <th>...</th>\n",
       "      <td>...</td>\n",
       "      <td>...</td>\n",
       "      <td>...</td>\n",
       "      <td>...</td>\n",
       "      <td>...</td>\n",
       "      <td>...</td>\n",
       "      <td>...</td>\n",
       "      <td>...</td>\n",
       "      <td>...</td>\n",
       "      <td>...</td>\n",
       "      <td>...</td>\n",
       "      <td>...</td>\n",
       "      <td>...</td>\n",
       "      <td>...</td>\n",
       "    </tr>\n",
       "    <tr>\n",
       "      <th>5710</th>\n",
       "      <td>NaN</td>\n",
       "      <td>NaN</td>\n",
       "      <td>0</td>\n",
       "      <td>0</td>\n",
       "      <td>0</td>\n",
       "      <td>0</td>\n",
       "      <td>0</td>\n",
       "      <td>0</td>\n",
       "      <td>0</td>\n",
       "      <td>0</td>\n",
       "      <td>0</td>\n",
       "      <td>0</td>\n",
       "      <td>0</td>\n",
       "      <td>0</td>\n",
       "    </tr>\n",
       "    <tr>\n",
       "      <th>5711</th>\n",
       "      <td>31.0</td>\n",
       "      <td>Human Resources and Staffing</td>\n",
       "      <td>0</td>\n",
       "      <td>0</td>\n",
       "      <td>0</td>\n",
       "      <td>0</td>\n",
       "      <td>0</td>\n",
       "      <td>0</td>\n",
       "      <td>0</td>\n",
       "      <td>0</td>\n",
       "      <td>0</td>\n",
       "      <td>0</td>\n",
       "      <td>0</td>\n",
       "      <td>1</td>\n",
       "    </tr>\n",
       "    <tr>\n",
       "      <th>5712</th>\n",
       "      <td>21159.0</td>\n",
       "      <td>Banks and Financial Services</td>\n",
       "      <td>0</td>\n",
       "      <td>0</td>\n",
       "      <td>0</td>\n",
       "      <td>0</td>\n",
       "      <td>0</td>\n",
       "      <td>1</td>\n",
       "      <td>0</td>\n",
       "      <td>0</td>\n",
       "      <td>1</td>\n",
       "      <td>0</td>\n",
       "      <td>0</td>\n",
       "      <td>0</td>\n",
       "    </tr>\n",
       "    <tr>\n",
       "      <th>5713</th>\n",
       "      <td>6791.0</td>\n",
       "      <td>Banks and Financial Services</td>\n",
       "      <td>0</td>\n",
       "      <td>0</td>\n",
       "      <td>0</td>\n",
       "      <td>0</td>\n",
       "      <td>0</td>\n",
       "      <td>0</td>\n",
       "      <td>0</td>\n",
       "      <td>0</td>\n",
       "      <td>1</td>\n",
       "      <td>0</td>\n",
       "      <td>0</td>\n",
       "      <td>0</td>\n",
       "    </tr>\n",
       "    <tr>\n",
       "      <th>5714</th>\n",
       "      <td>2279.0</td>\n",
       "      <td>Aerospace and Defense</td>\n",
       "      <td>0</td>\n",
       "      <td>0</td>\n",
       "      <td>1</td>\n",
       "      <td>0</td>\n",
       "      <td>0</td>\n",
       "      <td>0</td>\n",
       "      <td>0</td>\n",
       "      <td>0</td>\n",
       "      <td>0</td>\n",
       "      <td>0</td>\n",
       "      <td>0</td>\n",
       "      <td>1</td>\n",
       "    </tr>\n",
       "  </tbody>\n",
       "</table>\n",
       "<p>5715 rows × 14 columns</p>\n",
       "</div>"
      ],
      "text/plain": [
       "      No_of_Reviews              Company_Industry  IL  WA  MD  DC  NC  \\\n",
       "0            3301.0                   Health Care   0   0   0   0   0   \n",
       "1               NaN                           NaN   0   0   0   0   0   \n",
       "2              62.0                           NaN   0   0   0   0   0   \n",
       "3             158.0                    Government   0   0   0   1   0   \n",
       "4             495.0  Banks and Financial Services   0   0   0   0   0   \n",
       "...             ...                           ...  ..  ..  ..  ..  ..   \n",
       "5710            NaN                           NaN   0   0   0   0   0   \n",
       "5711           31.0  Human Resources and Staffing   0   0   0   0   0   \n",
       "5712        21159.0  Banks and Financial Services   0   0   0   0   0   \n",
       "5713         6791.0  Banks and Financial Services   0   0   0   0   0   \n",
       "5714         2279.0         Aerospace and Defense   0   0   1   0   0   \n",
       "\n",
       "      Other_states  Consulting and Business Services  Internet and Software  \\\n",
       "0                1                                 0                      0   \n",
       "1                0                                 0                      0   \n",
       "2                1                                 0                      0   \n",
       "3                0                                 0                      0   \n",
       "4                0                                 0                      0   \n",
       "...            ...                               ...                    ...   \n",
       "5710             0                                 0                      0   \n",
       "5711             0                                 0                      0   \n",
       "5712             1                                 0                      0   \n",
       "5713             0                                 0                      0   \n",
       "5714             0                                 0                      0   \n",
       "\n",
       "      Banks and Financial Services  Health Care  Insurance  Other_industries  \n",
       "0                                0            1          0                 0  \n",
       "1                                0            0          0                 0  \n",
       "2                                0            0          0                 0  \n",
       "3                                0            0          0                 1  \n",
       "4                                1            0          0                 0  \n",
       "...                            ...          ...        ...               ...  \n",
       "5710                             0            0          0                 0  \n",
       "5711                             0            0          0                 1  \n",
       "5712                             1            0          0                 0  \n",
       "5713                             1            0          0                 0  \n",
       "5714                             0            0          0                 1  \n",
       "\n",
       "[5715 rows x 14 columns]"
      ]
     },
     "execution_count": 28,
     "metadata": {},
     "output_type": "execute_result"
    }
   ],
   "source": [
    "# Checking DataFrame\n",
    "suzy_col"
   ]
  },
  {
   "cell_type": "code",
   "execution_count": 30,
   "id": "12b840b4",
   "metadata": {},
   "outputs": [],
   "source": [
    "# Filling compant industry NaNs\n",
    "suzy_col['Company_Industry'] = suzy_col['Company_Industry'].fillna('Not Listed')"
   ]
  },
  {
   "cell_type": "code",
   "execution_count": 32,
   "id": "7a78a00f",
   "metadata": {},
   "outputs": [],
   "source": [
    "# Filling No_of_Reviews NaNs\n",
    "suzy_col['No_of_Reviews'] = suzy_col['No_of_Reviews'].fillna('0')"
   ]
  },
  {
   "cell_type": "code",
   "execution_count": 71,
   "id": "8c9bac5c",
   "metadata": {
    "scrolled": true
   },
   "outputs": [],
   "source": [
    "suzy_col.to_csv('./SuzyColumns.csv')"
   ]
  },
  {
   "cell_type": "markdown",
   "id": "f86b5b9a",
   "metadata": {},
   "source": [
    "### Exploring my set of columns\n"
   ]
  },
  {
   "cell_type": "code",
   "execution_count": 66,
   "id": "1c5853b1",
   "metadata": {},
   "outputs": [
    {
     "data": {
      "text/plain": [
       "0        3301.0\n",
       "2          62.0\n",
       "3         158.0\n",
       "4         495.0\n",
       "5         173.0\n",
       "         ...   \n",
       "5708       40.0\n",
       "5711       31.0\n",
       "5712    21159.0\n",
       "5713     6791.0\n",
       "5714     2279.0\n",
       "Name: No_of_Reviews, Length: 4753, dtype: object"
      ]
     },
     "execution_count": 66,
     "metadata": {},
     "output_type": "execute_result"
    }
   ],
   "source": []
  },
  {
   "cell_type": "code",
   "execution_count": 45,
   "id": "72a28b2f",
   "metadata": {},
   "outputs": [
    {
     "data": {
      "text/plain": [
       "4753"
      ]
     },
     "execution_count": 45,
     "metadata": {},
     "output_type": "execute_result"
    }
   ],
   "source": [
    "# Exploring usable data - 'No_of_Reviews'\n",
    "suzy_col.loc[suzy_col['No_of_Reviews']!= '0', :]['No_of_Reviews'].count()"
   ]
  },
  {
   "cell_type": "code",
   "execution_count": 46,
   "id": "d08b56ec",
   "metadata": {},
   "outputs": [
    {
     "data": {
      "text/plain": [
       "3826"
      ]
     },
     "execution_count": 46,
     "metadata": {},
     "output_type": "execute_result"
    }
   ],
   "source": [
    "# Exploring usable data - 'Company_Industry'\n",
    "suzy_col.loc[suzy_col['Company_Industry']!= 'Not Listed', :]['Company_Industry'].count()"
   ]
  },
  {
   "cell_type": "code",
   "execution_count": 50,
   "id": "732c0f38",
   "metadata": {},
   "outputs": [
    {
     "data": {
      "text/plain": [
       "240"
      ]
     },
     "execution_count": 50,
     "metadata": {},
     "output_type": "execute_result"
    }
   ],
   "source": [
    "# Exploring usable data - 'IL'\n",
    "suzy_col['IL'].sum()"
   ]
  },
  {
   "cell_type": "code",
   "execution_count": 51,
   "id": "1f53b8f2",
   "metadata": {},
   "outputs": [
    {
     "data": {
      "text/plain": [
       "222"
      ]
     },
     "execution_count": 51,
     "metadata": {},
     "output_type": "execute_result"
    }
   ],
   "source": [
    "# Exploring usable data - 'WA'\n",
    "suzy_col['WA'].sum()"
   ]
  },
  {
   "cell_type": "code",
   "execution_count": 52,
   "id": "c2bdbf5a",
   "metadata": {},
   "outputs": [
    {
     "data": {
      "text/plain": [
       "169"
      ]
     },
     "execution_count": 52,
     "metadata": {},
     "output_type": "execute_result"
    }
   ],
   "source": [
    "# Exploring usable data \n",
    "suzy_col['MD'].sum()"
   ]
  },
  {
   "cell_type": "code",
   "execution_count": 53,
   "id": "7bc78a18",
   "metadata": {},
   "outputs": [
    {
     "data": {
      "text/plain": [
       "140"
      ]
     },
     "execution_count": 53,
     "metadata": {},
     "output_type": "execute_result"
    }
   ],
   "source": [
    "# Exploring usable data \n",
    "suzy_col['DC'].sum()"
   ]
  },
  {
   "cell_type": "code",
   "execution_count": 54,
   "id": "7f855ff0",
   "metadata": {},
   "outputs": [
    {
     "data": {
      "text/plain": [
       "139"
      ]
     },
     "execution_count": 54,
     "metadata": {},
     "output_type": "execute_result"
    }
   ],
   "source": [
    "# Exploring usable data \n",
    "suzy_col['NC'].sum()"
   ]
  },
  {
   "cell_type": "code",
   "execution_count": 55,
   "id": "7996d197",
   "metadata": {},
   "outputs": [
    {
     "data": {
      "text/plain": [
       "1623"
      ]
     },
     "execution_count": 55,
     "metadata": {},
     "output_type": "execute_result"
    }
   ],
   "source": [
    "# Exploring usable data \n",
    "suzy_col['Other_states'].sum()"
   ]
  },
  {
   "cell_type": "code",
   "execution_count": 56,
   "id": "fc010712",
   "metadata": {},
   "outputs": [
    {
     "data": {
      "text/plain": [
       "733"
      ]
     },
     "execution_count": 56,
     "metadata": {},
     "output_type": "execute_result"
    }
   ],
   "source": [
    "# Exploring usable data \n",
    "suzy_col['Consulting and Business Services'].sum()"
   ]
  },
  {
   "cell_type": "code",
   "execution_count": 57,
   "id": "4821b583",
   "metadata": {},
   "outputs": [
    {
     "data": {
      "text/plain": [
       "647"
      ]
     },
     "execution_count": 57,
     "metadata": {},
     "output_type": "execute_result"
    }
   ],
   "source": [
    "# Exploring usable data \n",
    "suzy_col['Internet and Software'].sum()"
   ]
  },
  {
   "cell_type": "code",
   "execution_count": 59,
   "id": "d1ddddbb",
   "metadata": {},
   "outputs": [
    {
     "data": {
      "text/plain": [
       "459"
      ]
     },
     "execution_count": 59,
     "metadata": {},
     "output_type": "execute_result"
    }
   ],
   "source": [
    "# Exploring usable data \n",
    "suzy_col['Banks and Financial Services'].sum()"
   ]
  },
  {
   "cell_type": "code",
   "execution_count": 60,
   "id": "4b1b5410",
   "metadata": {},
   "outputs": [
    {
     "data": {
      "text/plain": [
       "339"
      ]
     },
     "execution_count": 60,
     "metadata": {},
     "output_type": "execute_result"
    }
   ],
   "source": [
    "# Exploring usable data \n",
    "suzy_col['Health Care'].sum()"
   ]
  },
  {
   "cell_type": "code",
   "execution_count": 61,
   "id": "6a83f2a8",
   "metadata": {},
   "outputs": [
    {
     "data": {
      "text/plain": [
       "227"
      ]
     },
     "execution_count": 61,
     "metadata": {},
     "output_type": "execute_result"
    }
   ],
   "source": [
    "# Exploring usable data \n",
    "suzy_col['Insurance'].sum()"
   ]
  },
  {
   "cell_type": "code",
   "execution_count": 63,
   "id": "e66dc3d1",
   "metadata": {},
   "outputs": [
    {
     "data": {
      "text/plain": [
       "1421"
      ]
     },
     "execution_count": 63,
     "metadata": {},
     "output_type": "execute_result"
    }
   ],
   "source": [
    "# Exploring usable data \n",
    "suzy_col['Other_industries'].sum()"
   ]
  },
  {
   "cell_type": "code",
   "execution_count": 69,
   "id": "e30cd4d2",
   "metadata": {},
   "outputs": [
    {
     "data": {
      "text/plain": [
       "0        3301.0\n",
       "2          62.0\n",
       "3         158.0\n",
       "4         495.0\n",
       "5         173.0\n",
       "         ...   \n",
       "5708       40.0\n",
       "5711       31.0\n",
       "5712    21159.0\n",
       "5713     6791.0\n",
       "5714     2279.0\n",
       "Name: No_of_Reviews, Length: 4753, dtype: object"
      ]
     },
     "execution_count": 69,
     "metadata": {},
     "output_type": "execute_result"
    }
   ],
   "source": [
    "# Test\n",
    "suzy_col.loc[suzy_col['No_of_Reviews']!= '0', 'No_of_Reviews']"
   ]
  },
  {
   "cell_type": "code",
   "execution_count": 70,
   "id": "ce94276e",
   "metadata": {},
   "outputs": [
    {
     "data": {
      "image/png": "[encoded data removed]",
      "text/plain": [
       "<Figure size 432x288 with 1 Axes>"
      ]
     },
     "metadata": {
      "needs_background": "light"
     },
     "output_type": "display_data"
    }
   ],
   "source": [
    "reviews = suzy_col.loc[suzy_col['No_of_Reviews']!= '0', 'No_of_Reviews']\n",
    "\n",
    "fig1, ax1 = plt.subplots()\n",
    "ax1.set_title('Number of Reviews')\n",
    "ax1.set_ylabel('Reviews')\n",
    "ax1.boxplot(reviews)\n",
    "\n",
    "# Saving figure\n",
    "plt.savefig(\"./Number of Reviews.png\")\n",
    "\n",
    "# Showing image\n",
    "plt.show()"
   ]
  },
  {
   "cell_type": "code",
   "execution_count": null,
   "id": "8ab495ed",
   "metadata": {},
   "outputs": [],
   "source": []
  }
 ],
 "metadata": {
  "kernelspec": {
   "display_name": "Python 3",
   "language": "python",
   "name": "python3"
  },
  "language_info": {
   "codemirror_mode": {
    "name": "ipython",
    "version": 3
   },
   "file_extension": ".py",
   "mimetype": "text/x-python",
   "name": "python",
   "nbconvert_exporter": "python",
   "pygments_lexer": "ipython3",
   "version": "3.8.8"
  }
 },
 "nbformat": 4,
 "nbformat_minor": 5
}
