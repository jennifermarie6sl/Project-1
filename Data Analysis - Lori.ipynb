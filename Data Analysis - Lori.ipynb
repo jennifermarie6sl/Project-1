{
 "cells": [
  {
   "cell_type": "code",
   "execution_count": 1,
   "metadata": {},
   "outputs": [],
   "source": [
    "import pandas as pd\n",
    "import numpy as np\n",
    "import json\n",
    "import matplotlib.pyplot as plt\n",
    "import scipy.stats as st\n",
    "from scipy.stats import linregress\n",
    "from sklearn import datasets\n",
    "import gmaps\n",
    "from api_keys import g_key\n",
    "import os\n",
    "import csv"
   ]
  },
  {
   "cell_type": "code",
   "execution_count": 2,
   "metadata": {},
   "outputs": [],
   "source": [
    "clean_indeed_df = pd.read_csv(\"CLEAN Indeed Data Set.csv\")\n",
    "\n",
    "# clean_indeed_df.head()"
   ]
  },
  {
   "cell_type": "code",
   "execution_count": 36,
   "metadata": {},
   "outputs": [
    {
     "data": {
      "text/html": [
       "<div>\n",
       "<style scoped>\n",
       "    .dataframe tbody tr th:only-of-type {\n",
       "        vertical-align: middle;\n",
       "    }\n",
       "\n",
       "    .dataframe tbody tr th {\n",
       "        vertical-align: top;\n",
       "    }\n",
       "\n",
       "    .dataframe thead th {\n",
       "        text-align: right;\n",
       "    }\n",
       "</style>\n",
       "<table border=\"1\" class=\"dataframe\">\n",
       "  <thead>\n",
       "    <tr style=\"text-align: right;\">\n",
       "      <th></th>\n",
       "      <th>Job_Title</th>\n",
       "      <th>Queried_Salary</th>\n",
       "      <th>Job_Type</th>\n",
       "      <th>Skill</th>\n",
       "      <th>No_of_Skills</th>\n",
       "      <th>Company</th>\n",
       "      <th>No_of_Reviews</th>\n",
       "      <th>No_of_Stars</th>\n",
       "      <th>Location</th>\n",
       "      <th>Company_Revenue</th>\n",
       "      <th>...</th>\n",
       "      <th>MD</th>\n",
       "      <th>DC</th>\n",
       "      <th>NC</th>\n",
       "      <th>Other_states</th>\n",
       "      <th>Consulting and Business Services</th>\n",
       "      <th>Internet and Software</th>\n",
       "      <th>Banks and Financial Services</th>\n",
       "      <th>Health Care</th>\n",
       "      <th>Insurance</th>\n",
       "      <th>Other_industries</th>\n",
       "    </tr>\n",
       "  </thead>\n",
       "  <tbody>\n",
       "    <tr>\n",
       "      <th>0</th>\n",
       "      <td>Data Scientist</td>\n",
       "      <td>&lt;80000</td>\n",
       "      <td>data_scientist</td>\n",
       "      <td>['SAP', 'SQL']</td>\n",
       "      <td>2</td>\n",
       "      <td>Express Scripts</td>\n",
       "      <td>3301</td>\n",
       "      <td>3</td>\n",
       "      <td>MO</td>\n",
       "      <td>More than $10B (USD)</td>\n",
       "      <td>...</td>\n",
       "      <td>0</td>\n",
       "      <td>0</td>\n",
       "      <td>0</td>\n",
       "      <td>1</td>\n",
       "      <td>0</td>\n",
       "      <td>0</td>\n",
       "      <td>0</td>\n",
       "      <td>1</td>\n",
       "      <td>0</td>\n",
       "      <td>0</td>\n",
       "    </tr>\n",
       "    <tr>\n",
       "      <th>1</th>\n",
       "      <td>Data Scientist</td>\n",
       "      <td>&lt;80000</td>\n",
       "      <td>data_scientist</td>\n",
       "      <td>['Machine Learning', 'R', 'SAS', 'SQL', 'Python']</td>\n",
       "      <td>5</td>\n",
       "      <td>Money Mart Financial Services</td>\n",
       "      <td>0</td>\n",
       "      <td>0</td>\n",
       "      <td>TX</td>\n",
       "      <td>Missing</td>\n",
       "      <td>...</td>\n",
       "      <td>0</td>\n",
       "      <td>0</td>\n",
       "      <td>0</td>\n",
       "      <td>0</td>\n",
       "      <td>0</td>\n",
       "      <td>0</td>\n",
       "      <td>0</td>\n",
       "      <td>0</td>\n",
       "      <td>0</td>\n",
       "      <td>0</td>\n",
       "    </tr>\n",
       "    <tr>\n",
       "      <th>2</th>\n",
       "      <td>Data Scientist</td>\n",
       "      <td>&lt;80000</td>\n",
       "      <td>data_scientist</td>\n",
       "      <td>['Data Mining', 'Data Management', 'R', 'SAS',...</td>\n",
       "      <td>9</td>\n",
       "      <td>comScore</td>\n",
       "      <td>62</td>\n",
       "      <td>4</td>\n",
       "      <td>OR</td>\n",
       "      <td>Missing</td>\n",
       "      <td>...</td>\n",
       "      <td>0</td>\n",
       "      <td>0</td>\n",
       "      <td>0</td>\n",
       "      <td>1</td>\n",
       "      <td>0</td>\n",
       "      <td>0</td>\n",
       "      <td>0</td>\n",
       "      <td>0</td>\n",
       "      <td>0</td>\n",
       "      <td>0</td>\n",
       "    </tr>\n",
       "    <tr>\n",
       "      <th>3</th>\n",
       "      <td>Graduate Studies Program - Data Scientist</td>\n",
       "      <td>&lt;80000</td>\n",
       "      <td>data_scientist</td>\n",
       "      <td>['Certified Internal Auditor']</td>\n",
       "      <td>1</td>\n",
       "      <td>Central Intelligence Agency</td>\n",
       "      <td>158</td>\n",
       "      <td>4</td>\n",
       "      <td>DC</td>\n",
       "      <td>Missing</td>\n",
       "      <td>...</td>\n",
       "      <td>0</td>\n",
       "      <td>1</td>\n",
       "      <td>0</td>\n",
       "      <td>0</td>\n",
       "      <td>0</td>\n",
       "      <td>0</td>\n",
       "      <td>0</td>\n",
       "      <td>0</td>\n",
       "      <td>0</td>\n",
       "      <td>1</td>\n",
       "    </tr>\n",
       "    <tr>\n",
       "      <th>4</th>\n",
       "      <td>Data Scientist I</td>\n",
       "      <td>&lt;80000</td>\n",
       "      <td>data_scientist</td>\n",
       "      <td>['Statistical Software', 'Time Management', 'R...</td>\n",
       "      <td>7</td>\n",
       "      <td>Federal Reserve Bank of Dallas</td>\n",
       "      <td>495</td>\n",
       "      <td>4</td>\n",
       "      <td>TX</td>\n",
       "      <td>Missing</td>\n",
       "      <td>...</td>\n",
       "      <td>0</td>\n",
       "      <td>0</td>\n",
       "      <td>0</td>\n",
       "      <td>0</td>\n",
       "      <td>0</td>\n",
       "      <td>0</td>\n",
       "      <td>1</td>\n",
       "      <td>0</td>\n",
       "      <td>0</td>\n",
       "      <td>0</td>\n",
       "    </tr>\n",
       "    <tr>\n",
       "      <th>...</th>\n",
       "      <td>...</td>\n",
       "      <td>...</td>\n",
       "      <td>...</td>\n",
       "      <td>...</td>\n",
       "      <td>...</td>\n",
       "      <td>...</td>\n",
       "      <td>...</td>\n",
       "      <td>...</td>\n",
       "      <td>...</td>\n",
       "      <td>...</td>\n",
       "      <td>...</td>\n",
       "      <td>...</td>\n",
       "      <td>...</td>\n",
       "      <td>...</td>\n",
       "      <td>...</td>\n",
       "      <td>...</td>\n",
       "      <td>...</td>\n",
       "      <td>...</td>\n",
       "      <td>...</td>\n",
       "      <td>...</td>\n",
       "      <td>...</td>\n",
       "    </tr>\n",
       "    <tr>\n",
       "      <th>5708</th>\n",
       "      <td>Senior Big Data Engineer</td>\n",
       "      <td>&gt;160000</td>\n",
       "      <td>data_engineer</td>\n",
       "      <td>['Hive', 'Hadoop', 'Kafka', 'HBase', 'Java', '...</td>\n",
       "      <td>6</td>\n",
       "      <td>Workbridge Associates</td>\n",
       "      <td>40</td>\n",
       "      <td>3</td>\n",
       "      <td>CA</td>\n",
       "      <td>Missing</td>\n",
       "      <td>...</td>\n",
       "      <td>0</td>\n",
       "      <td>0</td>\n",
       "      <td>0</td>\n",
       "      <td>0</td>\n",
       "      <td>0</td>\n",
       "      <td>0</td>\n",
       "      <td>0</td>\n",
       "      <td>0</td>\n",
       "      <td>0</td>\n",
       "      <td>1</td>\n",
       "    </tr>\n",
       "    <tr>\n",
       "      <th>5711</th>\n",
       "      <td>Principal Data Engineer (Java, Spark, Storm, AWS)</td>\n",
       "      <td>&gt;160000</td>\n",
       "      <td>data_engineer</td>\n",
       "      <td>['Network', 'Scala', 'Kafka', 'Java', 'MongoDB...</td>\n",
       "      <td>8</td>\n",
       "      <td>Jobspring Partners</td>\n",
       "      <td>31</td>\n",
       "      <td>4</td>\n",
       "      <td>CA</td>\n",
       "      <td>Missing</td>\n",
       "      <td>...</td>\n",
       "      <td>0</td>\n",
       "      <td>0</td>\n",
       "      <td>0</td>\n",
       "      <td>0</td>\n",
       "      <td>0</td>\n",
       "      <td>0</td>\n",
       "      <td>0</td>\n",
       "      <td>0</td>\n",
       "      <td>0</td>\n",
       "      <td>1</td>\n",
       "    </tr>\n",
       "    <tr>\n",
       "      <th>5712</th>\n",
       "      <td>Executive Director- Architect: Data Engineerin...</td>\n",
       "      <td>&gt;160000</td>\n",
       "      <td>data_engineer</td>\n",
       "      <td>['Spring', 'Data Management', 'Hadoop', 'Kafka...</td>\n",
       "      <td>13</td>\n",
       "      <td>JPMorgan Chase</td>\n",
       "      <td>21159</td>\n",
       "      <td>4</td>\n",
       "      <td>DE</td>\n",
       "      <td>More than $10B (USD)</td>\n",
       "      <td>...</td>\n",
       "      <td>0</td>\n",
       "      <td>0</td>\n",
       "      <td>0</td>\n",
       "      <td>1</td>\n",
       "      <td>0</td>\n",
       "      <td>0</td>\n",
       "      <td>1</td>\n",
       "      <td>0</td>\n",
       "      <td>0</td>\n",
       "      <td>0</td>\n",
       "    </tr>\n",
       "    <tr>\n",
       "      <th>5713</th>\n",
       "      <td>Senior Manager, Data Engineering (hands on)</td>\n",
       "      <td>&gt;160000</td>\n",
       "      <td>data_engineer</td>\n",
       "      <td>['Spring', 'Ruby', 'Test Automation', 'Scripti...</td>\n",
       "      <td>15</td>\n",
       "      <td>Capital One</td>\n",
       "      <td>6791</td>\n",
       "      <td>4</td>\n",
       "      <td>NY</td>\n",
       "      <td>More than $10B (USD)</td>\n",
       "      <td>...</td>\n",
       "      <td>0</td>\n",
       "      <td>0</td>\n",
       "      <td>0</td>\n",
       "      <td>0</td>\n",
       "      <td>0</td>\n",
       "      <td>0</td>\n",
       "      <td>1</td>\n",
       "      <td>0</td>\n",
       "      <td>0</td>\n",
       "      <td>0</td>\n",
       "    </tr>\n",
       "    <tr>\n",
       "      <th>5714</th>\n",
       "      <td>Principal Visual Analytics / Big Data Engineer...</td>\n",
       "      <td>&gt;160000</td>\n",
       "      <td>data_engineer</td>\n",
       "      <td>['JavaScript', 'TS/SCI Clearance', 'XML', 'Had...</td>\n",
       "      <td>11</td>\n",
       "      <td>SAIC</td>\n",
       "      <td>2279</td>\n",
       "      <td>4</td>\n",
       "      <td>MD</td>\n",
       "      <td>Missing</td>\n",
       "      <td>...</td>\n",
       "      <td>1</td>\n",
       "      <td>0</td>\n",
       "      <td>0</td>\n",
       "      <td>0</td>\n",
       "      <td>0</td>\n",
       "      <td>0</td>\n",
       "      <td>0</td>\n",
       "      <td>0</td>\n",
       "      <td>0</td>\n",
       "      <td>1</td>\n",
       "    </tr>\n",
       "  </tbody>\n",
       "</table>\n",
       "<p>5463 rows × 39 columns</p>\n",
       "</div>"
      ],
      "text/plain": [
       "                                              Job_Title Queried_Salary  \\\n",
       "0                                        Data Scientist         <80000   \n",
       "1                                        Data Scientist         <80000   \n",
       "2                                        Data Scientist         <80000   \n",
       "3             Graduate Studies Program - Data Scientist         <80000   \n",
       "4                                      Data Scientist I         <80000   \n",
       "...                                                 ...            ...   \n",
       "5708                           Senior Big Data Engineer        >160000   \n",
       "5711  Principal Data Engineer (Java, Spark, Storm, AWS)        >160000   \n",
       "5712  Executive Director- Architect: Data Engineerin...        >160000   \n",
       "5713        Senior Manager, Data Engineering (hands on)        >160000   \n",
       "5714  Principal Visual Analytics / Big Data Engineer...        >160000   \n",
       "\n",
       "            Job_Type                                              Skill  \\\n",
       "0     data_scientist                                     ['SAP', 'SQL']   \n",
       "1     data_scientist  ['Machine Learning', 'R', 'SAS', 'SQL', 'Python']   \n",
       "2     data_scientist  ['Data Mining', 'Data Management', 'R', 'SAS',...   \n",
       "3     data_scientist                     ['Certified Internal Auditor']   \n",
       "4     data_scientist  ['Statistical Software', 'Time Management', 'R...   \n",
       "...              ...                                                ...   \n",
       "5708   data_engineer  ['Hive', 'Hadoop', 'Kafka', 'HBase', 'Java', '...   \n",
       "5711   data_engineer  ['Network', 'Scala', 'Kafka', 'Java', 'MongoDB...   \n",
       "5712   data_engineer  ['Spring', 'Data Management', 'Hadoop', 'Kafka...   \n",
       "5713   data_engineer  ['Spring', 'Ruby', 'Test Automation', 'Scripti...   \n",
       "5714   data_engineer  ['JavaScript', 'TS/SCI Clearance', 'XML', 'Had...   \n",
       "\n",
       "      No_of_Skills                         Company  No_of_Reviews  \\\n",
       "0                2                 Express Scripts           3301   \n",
       "1                5   Money Mart Financial Services              0   \n",
       "2                9                        comScore             62   \n",
       "3                1     Central Intelligence Agency            158   \n",
       "4                7  Federal Reserve Bank of Dallas            495   \n",
       "...            ...                             ...            ...   \n",
       "5708             6           Workbridge Associates             40   \n",
       "5711             8              Jobspring Partners             31   \n",
       "5712            13                  JPMorgan Chase          21159   \n",
       "5713            15                     Capital One           6791   \n",
       "5714            11                            SAIC           2279   \n",
       "\n",
       "      No_of_Stars Location       Company_Revenue  ... MD DC  NC  Other_states  \\\n",
       "0               3       MO  More than $10B (USD)  ...  0  0   0             1   \n",
       "1               0       TX               Missing  ...  0  0   0             0   \n",
       "2               4       OR               Missing  ...  0  0   0             1   \n",
       "3               4       DC               Missing  ...  0  1   0             0   \n",
       "4               4       TX               Missing  ...  0  0   0             0   \n",
       "...           ...      ...                   ...  ... .. ..  ..           ...   \n",
       "5708            3       CA               Missing  ...  0  0   0             0   \n",
       "5711            4       CA               Missing  ...  0  0   0             0   \n",
       "5712            4       DE  More than $10B (USD)  ...  0  0   0             1   \n",
       "5713            4       NY  More than $10B (USD)  ...  0  0   0             0   \n",
       "5714            4       MD               Missing  ...  1  0   0             0   \n",
       "\n",
       "      Consulting and Business Services  Internet and Software  \\\n",
       "0                                    0                      0   \n",
       "1                                    0                      0   \n",
       "2                                    0                      0   \n",
       "3                                    0                      0   \n",
       "4                                    0                      0   \n",
       "...                                ...                    ...   \n",
       "5708                                 0                      0   \n",
       "5711                                 0                      0   \n",
       "5712                                 0                      0   \n",
       "5713                                 0                      0   \n",
       "5714                                 0                      0   \n",
       "\n",
       "      Banks and Financial Services  Health Care  Insurance  Other_industries  \n",
       "0                                0            1          0                 0  \n",
       "1                                0            0          0                 0  \n",
       "2                                0            0          0                 0  \n",
       "3                                0            0          0                 1  \n",
       "4                                1            0          0                 0  \n",
       "...                            ...          ...        ...               ...  \n",
       "5708                             0            0          0                 1  \n",
       "5711                             0            0          0                 1  \n",
       "5712                             1            0          0                 0  \n",
       "5713                             1            0          0                 0  \n",
       "5714                             0            0          0                 1  \n",
       "\n",
       "[5463 rows x 39 columns]"
      ]
     },
     "execution_count": 36,
     "metadata": {},
     "output_type": "execute_result"
    }
   ],
   "source": [
    "# Get indexes where name column has value Missing\n",
    "MissingData = clean_indeed_df[clean_indeed_df[\"Location\"] == \"Missing\"].index\n",
    " \n",
    "# Delete these row indexes from dataFrame\n",
    "updated_df = clean_indeed_df.drop(MissingData , inplace=True)\n",
    "\n",
    "clean_indeed_df"
   ]
  },
  {
   "cell_type": "code",
   "execution_count": 4,
   "metadata": {},
   "outputs": [
    {
     "data": {
      "text/plain": [
       "Index(['Job_Title', 'Queried_Salary', 'Job_Type', 'Skill', 'No_of_Skills',\n",
       "       'Company', 'No_of_Reviews', 'No_of_Stars', 'Location',\n",
       "       'Company_Revenue', 'Company_Employees', 'Company_Industry', 'python',\n",
       "       'sql', 'machine learning', 'r', 'hadoop', 'tableau', 'sas', 'spark',\n",
       "       'java', 'Others', 'CA', 'NY', 'VA', 'TX', 'MA', 'IL', 'WA', 'MD', 'DC',\n",
       "       'NC', 'Other_states', 'Consulting and Business Services',\n",
       "       'Internet and Software', 'Banks and Financial Services', 'Health Care',\n",
       "       'Insurance', 'Other_industries'],\n",
       "      dtype='object')"
      ]
     },
     "execution_count": 4,
     "metadata": {},
     "output_type": "execute_result"
    }
   ],
   "source": [
    "clean_indeed_df.columns"
   ]
  },
  {
   "cell_type": "code",
   "execution_count": 5,
   "metadata": {},
   "outputs": [],
   "source": [
    "#import dataframe that includes lat/lng for states\n",
    "\n",
    "states_df = pd.read_csv(\"State_Abbrev_List.csv\")\n",
    "\n",
    "# states_df.head()"
   ]
  },
  {
   "cell_type": "code",
   "execution_count": 6,
   "metadata": {},
   "outputs": [
    {
     "data": {
      "text/html": [
       "<div>\n",
       "<style scoped>\n",
       "    .dataframe tbody tr th:only-of-type {\n",
       "        vertical-align: middle;\n",
       "    }\n",
       "\n",
       "    .dataframe tbody tr th {\n",
       "        vertical-align: top;\n",
       "    }\n",
       "\n",
       "    .dataframe thead th {\n",
       "        text-align: right;\n",
       "    }\n",
       "</style>\n",
       "<table border=\"1\" class=\"dataframe\">\n",
       "  <thead>\n",
       "    <tr style=\"text-align: right;\">\n",
       "      <th></th>\n",
       "      <th>Location</th>\n",
       "      <th>Latitude</th>\n",
       "      <th>Longitude</th>\n",
       "    </tr>\n",
       "  </thead>\n",
       "  <tbody>\n",
       "    <tr>\n",
       "      <th>0</th>\n",
       "      <td>AK</td>\n",
       "      <td>66.160507</td>\n",
       "      <td>-153.369141</td>\n",
       "    </tr>\n",
       "    <tr>\n",
       "      <th>1</th>\n",
       "      <td>AL</td>\n",
       "      <td>32.318230</td>\n",
       "      <td>-86.902298</td>\n",
       "    </tr>\n",
       "    <tr>\n",
       "      <th>2</th>\n",
       "      <td>AR</td>\n",
       "      <td>34.799999</td>\n",
       "      <td>-92.199997</td>\n",
       "    </tr>\n",
       "    <tr>\n",
       "      <th>3</th>\n",
       "      <td>AZ</td>\n",
       "      <td>34.048927</td>\n",
       "      <td>-111.093735</td>\n",
       "    </tr>\n",
       "    <tr>\n",
       "      <th>4</th>\n",
       "      <td>CA</td>\n",
       "      <td>36.778259</td>\n",
       "      <td>-119.417931</td>\n",
       "    </tr>\n",
       "  </tbody>\n",
       "</table>\n",
       "</div>"
      ],
      "text/plain": [
       "  Location   Latitude   Longitude\n",
       "0       AK  66.160507 -153.369141\n",
       "1       AL  32.318230  -86.902298\n",
       "2       AR  34.799999  -92.199997\n",
       "3       AZ  34.048927 -111.093735\n",
       "4       CA  36.778259 -119.417931"
      ]
     },
     "execution_count": 6,
     "metadata": {},
     "output_type": "execute_result"
    }
   ],
   "source": [
    "#clean states dataframe\n",
    "\n",
    "states_df = states_df.drop(columns=[\"Unnamed: 4\", \"State\"])\n",
    "\n",
    "states_df.head()"
   ]
  },
  {
   "cell_type": "code",
   "execution_count": 7,
   "metadata": {},
   "outputs": [],
   "source": [
    "#merge dataframes \n",
    "\n",
    "merged_df = pd.merge(clean_indeed_df, states_df, on=\"Location\", how=\"inner\")\n",
    "\n",
    "# merged_df"
   ]
  },
  {
   "cell_type": "code",
   "execution_count": 8,
   "metadata": {},
   "outputs": [],
   "source": [
    "#change salary ranges to single values\n",
    "merged_df[\"Queried_Salary\"].replace({\"<80000\": \"80000\", \"80000-99999\": \"99999\", \"100000-119999\":\"119999\", \"120000-139999\":\"139999\", \"140000-159999\":\"159999\", \">160000\":\"160000\"}, inplace=True)\n",
    "\n",
    "# merged_df.head()"
   ]
  },
  {
   "cell_type": "code",
   "execution_count": 9,
   "metadata": {},
   "outputs": [],
   "source": [
    "# check salary values \n",
    "\n",
    "#merged_df[\"Queried_Salary\"].value_counts()"
   ]
  },
  {
   "cell_type": "code",
   "execution_count": 10,
   "metadata": {},
   "outputs": [],
   "source": [
    "#change salary data type to float for use in heatmap\n",
    "merged_df[\"Queried_Salary\"] = merged_df[\"Queried_Salary\"].astype(float, 2)\n",
    "\n",
    "# merged_df"
   ]
  },
  {
   "cell_type": "code",
   "execution_count": 11,
   "metadata": {},
   "outputs": [
    {
     "data": {
      "text/plain": [
       "Job_Title                            object\n",
       "Queried_Salary                      float64\n",
       "Job_Type                             object\n",
       "Skill                                object\n",
       "No_of_Skills                          int64\n",
       "Company                              object\n",
       "No_of_Reviews                         int64\n",
       "No_of_Stars                           int64\n",
       "Location                             object\n",
       "Company_Revenue                      object\n",
       "Company_Employees                    object\n",
       "Company_Industry                     object\n",
       "python                                int64\n",
       "sql                                   int64\n",
       "machine learning                      int64\n",
       "r                                     int64\n",
       "hadoop                                int64\n",
       "tableau                               int64\n",
       "sas                                   int64\n",
       "spark                                 int64\n",
       "java                                  int64\n",
       "Others                                int64\n",
       "CA                                    int64\n",
       "NY                                    int64\n",
       "VA                                    int64\n",
       "TX                                    int64\n",
       "MA                                    int64\n",
       "IL                                    int64\n",
       "WA                                    int64\n",
       "MD                                    int64\n",
       "DC                                    int64\n",
       "NC                                    int64\n",
       "Other_states                          int64\n",
       "Consulting and Business Services      int64\n",
       "Internet and Software                 int64\n",
       "Banks and Financial Services          int64\n",
       "Health Care                           int64\n",
       "Insurance                             int64\n",
       "Other_industries                      int64\n",
       "Latitude                            float64\n",
       "Longitude                           float64\n",
       "dtype: object"
      ]
     },
     "execution_count": 11,
     "metadata": {},
     "output_type": "execute_result"
    }
   ],
   "source": [
    "merged_df.dtypes"
   ]
  },
  {
   "cell_type": "code",
   "execution_count": 12,
   "metadata": {},
   "outputs": [],
   "source": [
    "# Where are the jobs?\n",
    "# Location and Salary (heat map)"
   ]
  },
  {
   "cell_type": "code",
   "execution_count": 13,
   "metadata": {},
   "outputs": [],
   "source": [
    "# configure gmaps\n",
    "\n",
    "gmaps.configure(api_key = g_key)"
   ]
  },
  {
   "cell_type": "code",
   "execution_count": 14,
   "metadata": {},
   "outputs": [
    {
     "data": {
      "text/html": [
       "<div>\n",
       "<style scoped>\n",
       "    .dataframe tbody tr th:only-of-type {\n",
       "        vertical-align: middle;\n",
       "    }\n",
       "\n",
       "    .dataframe tbody tr th {\n",
       "        vertical-align: top;\n",
       "    }\n",
       "\n",
       "    .dataframe thead th {\n",
       "        text-align: right;\n",
       "    }\n",
       "</style>\n",
       "<table border=\"1\" class=\"dataframe\">\n",
       "  <thead>\n",
       "    <tr style=\"text-align: right;\">\n",
       "      <th></th>\n",
       "      <th>Latitude</th>\n",
       "      <th>Longitude</th>\n",
       "    </tr>\n",
       "  </thead>\n",
       "  <tbody>\n",
       "    <tr>\n",
       "      <th>0</th>\n",
       "      <td>38.573936</td>\n",
       "      <td>-92.60376</td>\n",
       "    </tr>\n",
       "    <tr>\n",
       "      <th>1</th>\n",
       "      <td>38.573936</td>\n",
       "      <td>-92.60376</td>\n",
       "    </tr>\n",
       "    <tr>\n",
       "      <th>2</th>\n",
       "      <td>38.573936</td>\n",
       "      <td>-92.60376</td>\n",
       "    </tr>\n",
       "    <tr>\n",
       "      <th>3</th>\n",
       "      <td>38.573936</td>\n",
       "      <td>-92.60376</td>\n",
       "    </tr>\n",
       "    <tr>\n",
       "      <th>4</th>\n",
       "      <td>38.573936</td>\n",
       "      <td>-92.60376</td>\n",
       "    </tr>\n",
       "  </tbody>\n",
       "</table>\n",
       "</div>"
      ],
      "text/plain": [
       "    Latitude  Longitude\n",
       "0  38.573936  -92.60376\n",
       "1  38.573936  -92.60376\n",
       "2  38.573936  -92.60376\n",
       "3  38.573936  -92.60376\n",
       "4  38.573936  -92.60376"
      ]
     },
     "execution_count": 14,
     "metadata": {},
     "output_type": "execute_result"
    }
   ],
   "source": [
    "#establish locations variable\n",
    "\n",
    "locations = merged_df[[\"Latitude\", \"Longitude\"]]\n",
    "locations.head()"
   ]
  },
  {
   "cell_type": "code",
   "execution_count": 22,
   "metadata": {},
   "outputs": [
    {
     "data": {
      "text/plain": [
       "0       0.643972\n",
       "1       0.643972\n",
       "2       0.643972\n",
       "3       0.643972\n",
       "4       0.804958\n",
       "          ...   \n",
       "5376    0.804958\n",
       "5377    0.804958\n",
       "5378    0.965951\n",
       "5379    0.965951\n",
       "5380    0.965951\n",
       "Name: Queried_Salary, Length: 5381, dtype: float64"
      ]
     },
     "execution_count": 22,
     "metadata": {},
     "output_type": "execute_result"
    }
   ],
   "source": [
    "#establish weights variable\n",
    "\n",
    "salary = merged_df[\"Queried_Salary\"]\n",
    "\n",
    "average_salary = merged_df[\"Queried_Salary\"].mean()\n",
    "\n",
    "salary_norm = merged_df[\"Queried_Salary\"] / average_salary\n",
    "\n",
    "salary_norm\n",
    "\n",
    "# merged_df[\"Queried_Salary\"].value_counts()\n",
    "\n"
   ]
  },
  {
   "cell_type": "raw",
   "metadata": {},
   "source": []
  },
  {
   "cell_type": "code",
   "execution_count": 23,
   "metadata": {},
   "outputs": [
    {
     "data": {
      "application/vnd.jupyter.widget-view+json": {
       "model_id": "c0bd10e3833f4aff8620487380f5aea9",
       "version_major": 2,
       "version_minor": 0
      },
      "text/plain": [
       "Figure(layout=FigureLayout(height='420px'))"
      ]
     },
     "metadata": {},
     "output_type": "display_data"
    }
   ],
   "source": [
    "#create heatmap\n",
    "\n",
    "fig = gmaps.figure()\n",
    "\n",
    "heat_layer = gmaps.heatmap_layer(locations, weights=salary_norm, dissipating=False, max_intensity=300, point_radius = 5)\n",
    "\n",
    "fig.add_layer(heat_layer)\n",
    "\n",
    "fig"
   ]
  },
  {
   "cell_type": "code",
   "execution_count": 54,
   "metadata": {},
   "outputs": [
    {
     "data": {
      "text/plain": [
       "<Figure size 432x288 with 0 Axes>"
      ]
     },
     "metadata": {},
     "output_type": "display_data"
    }
   ],
   "source": [
    "plt.savefig(\"Location_vs_Salary.png\")"
   ]
  },
  {
   "cell_type": "code",
   "execution_count": null,
   "metadata": {},
   "outputs": [],
   "source": [
    "# Are more skills needed for higher salary ranges?\n",
    "# Bar plot"
   ]
  },
  {
   "cell_type": "code",
   "execution_count": 32,
   "metadata": {},
   "outputs": [
    {
     "data": {
      "text/plain": [
       "5381"
      ]
     },
     "execution_count": 32,
     "metadata": {},
     "output_type": "execute_result"
    }
   ],
   "source": [
    "locations = merged_df[\"Queried_Salary\"]\n",
    "\n",
    "skills = merged_df[\"No_of_Skills\"]\n",
    "\n"
   ]
  },
  {
   "cell_type": "code",
   "execution_count": 45,
   "metadata": {},
   "outputs": [
    {
     "data": {
      "text/plain": [
       "Index(['AL', 'AR', 'AZ', 'CA', 'CO', 'CT', 'DC', 'DE', 'FL', 'GA', 'HI', 'IA',\n",
       "       'ID', 'IL', 'IN', 'KS', 'KY', 'LA', 'MA', 'MD', 'ME', 'MI', 'MN', 'MO',\n",
       "       'MT', 'NC', 'ND', 'NE', 'NH', 'NJ', 'NM', 'NV', 'NY', 'OH', 'OK', 'OR',\n",
       "       'PA', 'RI', 'SC', 'SD', 'TN', 'TX', 'UT', 'VA', 'VT', 'WA', 'WI', 'WV',\n",
       "       'WY'],\n",
       "      dtype='object', name='Location')"
      ]
     },
     "execution_count": 45,
     "metadata": {},
     "output_type": "execute_result"
    }
   ],
   "source": [
    "grouped_skills_df = merged_df.groupby(\"Location\").nunique()[\"No_of_Skills\"]\n",
    "\n",
    "grouped_skills_df.index"
   ]
  },
  {
   "cell_type": "code",
   "execution_count": 66,
   "metadata": {},
   "outputs": [
    {
     "data": {
      "image/png": "[encoded data removed]",
      "text/plain": [
       "<Figure size 1080x720 with 1 Axes>"
      ]
     },
     "metadata": {
      "needs_background": "light"
     },
     "output_type": "display_data"
    }
   ],
   "source": [
    "# x_axis = np.arange(len(grouped_skills_df))\n",
    "\n",
    "plt.figure(figsize=(15, 10))\n",
    "\n",
    "plt.bar(grouped_skills_df.index, grouped_skills_df, color=\"blue\", alpha=1, align=\"center\")\n",
    "\n",
    "plt.title(\"Unique Skills In Each State\")\n",
    "plt.xlabel(\"States\")\n",
    "plt.ylabel(\"Number of Unique Skills\")\n",
    "\n",
    "plt.show()"
   ]
  },
  {
   "cell_type": "code",
   "execution_count": 63,
   "metadata": {},
   "outputs": [
    {
     "data": {
      "text/plain": [
       "<Figure size 432x288 with 0 Axes>"
      ]
     },
     "metadata": {},
     "output_type": "display_data"
    }
   ],
   "source": [
    "plt.savefig(\"Unique_Skills_by_State.png\")"
   ]
  },
  {
   "cell_type": "code",
   "execution_count": null,
   "metadata": {},
   "outputs": [],
   "source": []
  }
 ],
 "metadata": {
  "kernelspec": {
   "display_name": "Python 3",
   "language": "python",
   "name": "python3"
  },
  "language_info": {
   "codemirror_mode": {
    "name": "ipython",
    "version": 3
   },
   "file_extension": ".py",
   "mimetype": "text/x-python",
   "name": "python",
   "nbconvert_exporter": "python",
   "pygments_lexer": "ipython3",
   "version": "3.8.5"
  }
 },
 "nbformat": 4,
 "nbformat_minor": 4
}
